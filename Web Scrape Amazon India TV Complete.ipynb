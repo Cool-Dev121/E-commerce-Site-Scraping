{
 "cells": [
  {
   "cell_type": "code",
   "execution_count": null,
   "metadata": {},
   "outputs": [],
   "source": [
    "import selenium\n",
    "from selenium import webdriver as wb\n",
    "from selenium.webdriver.support.ui import Select\n",
    "import pandas as pd\n",
    "import time"
   ]
  },
  {
   "cell_type": "code",
   "execution_count": null,
   "metadata": {},
   "outputs": [],
   "source": [
    "wbD=wb.Chrome('chromedriver.exe')"
   ]
  },
  {
   "cell_type": "code",
   "execution_count": null,
   "metadata": {},
   "outputs": [],
   "source": [
    "wbD.get('https://www.amazon.in/s?bbn=1389396031&rh=n%3A976419031%2Cn%3A%21976420031%2Cn%3A1389375031%2Cn%3A1389396031%2Cn%3A15747864031&dc&fst=as%3Aoff&qid=1596287247&rnid=1389396031&ref=lp_1389396031_nr_n_1')"
   ]
  },
  {
   "cell_type": "code",
   "execution_count": null,
   "metadata": {},
   "outputs": [],
   "source": [
    "listOflinks =[]\n",
    "condition =True\n",
    "while condition:\n",
    "    time.sleep(3)\n",
    "    productInfoList=wbD.find_elements_by_class_name('a-size-mini')\n",
    "    for el in productInfoList:\n",
    "        if(el.text !=\"\" and el.text !=\"Sponsored\"):\n",
    "            pp2=el.find_element_by_tag_name('a')\n",
    "            listOflinks.append(pp2.get_property('href'))\n",
    "    try:\n",
    "        wbD.find_element_by_class_name('a-last').find_element_by_tag_name('a').get_property('href')\n",
    "        wbD.find_element_by_class_name('a-last').click()\n",
    "    except:\n",
    "        condition=False"
   ]
  },
  {
   "cell_type": "code",
   "execution_count": null,
   "metadata": {},
   "outputs": [],
   "source": [
    "len(listOflinks)`"
   ]
  },
  {
   "cell_type": "code",
   "execution_count": null,
   "metadata": {},
   "outputs": [],
   "source": [
    "from tqdm import tqdm\n",
    "alldetails=[]\n",
    "brand=\"\"\n",
    "model=\"\"\n",
    "\n",
    "for i in tqdm(listOflinks):\n",
    "    wbD.get(i)\n",
    "    time.sleep(3)\n",
    "    sku = wbD.find_element_by_xpath('//*[@id=\"productTitle\"]').text\n",
    "    category= wbD.find_element_by_xpath('//*[@id=\"wayfinding-breadcrumbs_feature_div\"]/ul/li[7]/span/a').text\n",
    "    try:\n",
    "        try:\n",
    "            price = wbD.find_element_by_xpath('//*[@id=\"priceblock_ourprice\"]').text\n",
    "        except:\n",
    "            price = wbD.find_element_by_xpath('//*[@id=\"priceblock_dealprice\"]').text\n",
    "    except:\n",
    "        price=\"\"\n",
    "        \n",
    "    pp=wbD.find_element_by_class_name('pdTab')\n",
    "    pp1=pp.find_elements_by_tag_name('tr')\n",
    "    for el in range(len(pp1)-1):\n",
    "        if (pp1[el].find_element_by_class_name(\"label\").text) == 'Brand':\n",
    "            brand= pp1[el].find_element_by_class_name(\"value\").text\n",
    "        if (pp1[el].find_element_by_class_name(\"label\").text) == 'Model':\n",
    "            model= pp1[el].find_element_by_class_name(\"value\").text\n",
    "        \n",
    "    temp ={\n",
    "        'SKU':sku,\n",
    "        'Category':category,\n",
    "        'Price':price,\n",
    "        'Brand':brand,\n",
    "        'Model':model,\n",
    "        'linkofproduct':i}\n",
    "    alldetails.append(temp)"
   ]
  },
  {
   "cell_type": "code",
   "execution_count": null,
   "metadata": {},
   "outputs": [],
   "source": [
    "pd.DataFrame(alldetails)"
   ]
  },
  {
   "cell_type": "code",
   "execution_count": null,
   "metadata": {},
   "outputs": [],
   "source": [
    "data = pd.DataFrame(alldetails)"
   ]
  },
  {
   "cell_type": "code",
   "execution_count": null,
   "metadata": {},
   "outputs": [],
   "source": [
    "data.to_csv('Amazon_tv.csv')"
   ]
  }
 ],
 "metadata": {
  "kernelspec": {
   "display_name": "Python 3",
   "language": "python",
   "name": "python3"
  },
  "language_info": {
   "codemirror_mode": {
    "name": "ipython",
    "version": 3
   },
   "file_extension": ".py",
   "mimetype": "text/x-python",
   "name": "python",
   "nbconvert_exporter": "python",
   "pygments_lexer": "ipython3",
   "version": "3.7.6"
  }
 },
 "nbformat": 4,
 "nbformat_minor": 4
}
